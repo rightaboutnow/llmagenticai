{
  "nbformat": 4,
  "nbformat_minor": 0,
  "metadata": {
    "colab": {
      "provenance": [],
      "include_colab_link": true
    },
    "kernelspec": {
      "name": "python3",
      "display_name": "Python 3"
    },
    "language_info": {
      "name": "python"
    }
  },
  "cells": [
    {
      "cell_type": "markdown",
      "metadata": {
        "id": "view-in-github",
        "colab_type": "text"
      },
      "source": [
        "<a href=\"https://colab.research.google.com/github/rightaboutnow/llmagenticai/blob/main/ProgrammaticPrompting1.ipynb\" target=\"_parent\"><img src=\"https://colab.research.google.com/assets/colab-badge.svg\" alt=\"Open In Colab\"/></a>"
      ]
    },
    {
      "cell_type": "code",
      "source": [
        "!!pip install litellm\n",
        "\n",
        "# Important!!!\n",
        "#\n",
        "# <---- Set your 'OPENAI_API_KEY' as a secret over there with the \"key\" icon\n",
        "#\n",
        "#\n",
        "import os\n",
        "from google.colab import userdata\n",
        "api_key = userdata.get('OPENAI_API_KEY')\n",
        "os.environ['OPENAI_API_KEY'] = api_key"
      ],
      "metadata": {
        "id": "KEYrzG2vB8Ip"
      },
      "execution_count": 1,
      "outputs": []
    },
    {
      "cell_type": "code",
      "execution_count": 2,
      "metadata": {
        "colab": {
          "base_uri": "https://localhost:8080/"
        },
        "id": "Mwe2eeOQB0cC",
        "outputId": "a81e3564-ae58-4d82-b184-ac4d3cf724ef"
      },
      "outputs": [
        {
          "output_type": "stream",
          "name": "stdout",
          "text": [
            "In functional programming, functions are first-class citizens and immutability is favored. Therefore, rather than mutating the given dictionary, we will create a new dictionary where the keys and values are swapped. This is a great use case for a functional approach, allowing us to use constructs like comprehensions or functional utilities. Here's a functional-style Python function to accomplish this:\n",
            "\n",
            "```python\n",
            "def swap_keys_values(d):\n",
            "    \"\"\"\n",
            "    Swaps the keys and values in a dictionary.\n",
            "\n",
            "    :param d: Dictionary to swap keys and values\n",
            "    :return: A new dictionary with keys and values swapped\n",
            "    \"\"\"\n",
            "    # Use a dictionary comprehension to create a new dictionary\n",
            "    # with swapped keys and values\n",
            "    return {v: k for k, v in d.items()}\n",
            "\n",
            "# Example usage\n",
            "original_dict = {'a': 1, 'b': 2, 'c': 3}\n",
            "swapped_dict = swap_keys_values(original_dict)\n",
            "print(swapped_dict)  # Output: {1: 'a', 2: 'b', 3: 'c'}\n",
            "```\n",
            "\n",
            "### Considerations:\n",
            "\n",
            "1. **Uniqueness of Values**: This function assumes that all values in the dictionary are unique. If there are duplicate values, keys will be overwritten in the resulting dictionary, and only the last key-value pair with the given value will be retained.\n",
            "\n",
            "2. **Immutable Input**: This approach doesn’t mutate the original dictionary, which is in line with functional programming principles, ensuring that functions don't have side effects.\n",
            "\n",
            "3. **Outputs New Object**: Key-value swap returns a completely new dictionary, offering predictability and ease of reasoning about the function's behavior.\n",
            "\n",
            "If you're dealing with dictionaries that might have non-unique values, you'd need to incorporate additional logic to handle such cases, potentially by making the swapped values a collection (e.g., a list of keys).\n"
          ]
        }
      ],
      "source": [
        "from litellm import completion\n",
        "from typing import List, Dict\n",
        "\n",
        "\n",
        "def generate_response(messages: List[Dict]) -> str:\n",
        "    \"\"\"Call LLM to get response\"\"\"\n",
        "    response = completion(\n",
        "        model=\"openai/gpt-4o\",\n",
        "        messages=messages,\n",
        "        max_tokens=1024\n",
        "    )\n",
        "    return response.choices[0].message.content\n",
        "\n",
        "\n",
        "messages = [\n",
        "    {\"role\": \"system\", \"content\": \"You are an expert software engineer that prefers functional programming.\"},\n",
        "    {\"role\": \"user\", \"content\": \"Write a function to swap the keys and values in a dictionary.\"}\n",
        "]\n",
        "\n",
        "response = generate_response(messages)\n",
        "print(response)"
      ]
    }
  ]
}